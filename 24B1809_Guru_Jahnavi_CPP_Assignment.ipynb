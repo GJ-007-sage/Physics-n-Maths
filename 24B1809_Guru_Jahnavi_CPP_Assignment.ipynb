{
  "nbformat": 4,
  "nbformat_minor": 0,
  "metadata": {
    "colab": {
      "provenance": [],
      "authorship_tag": "ABX9TyMQxjJA9MQeuxnQQvkT/YT5",
      "include_colab_link": true
    },
    "kernelspec": {
      "name": "python3",
      "display_name": "Python 3"
    },
    "language_info": {
      "name": "python"
    }
  },
  "cells": [
    {
      "cell_type": "markdown",
      "metadata": {
        "id": "view-in-github",
        "colab_type": "text"
      },
      "source": [
        "<a href=\"https://colab.research.google.com/github/GJ-007-sage/Physics-n-Maths/blob/main/24B1809_Guru_Jahnavi_CPP_Assignment.ipynb\" target=\"_parent\"><img src=\"https://colab.research.google.com/assets/colab-badge.svg\" alt=\"Open In Colab\"/></a>"
      ]
    },
    {
      "cell_type": "markdown",
      "source": [
        "# Basic Python\n",
        "\n",
        "\n",
        "## 1.a\n",
        "Give a function F that takes a single argument n. This function should print a sequence of n strings as described in the examples below:\n",
        "\n",
        "\n",
        "Ex:\n",
        "\n",
        " n = 3\n",
        "\n",
        "--A--\n",
        "\n",
        "-BAB-\n",
        "\n",
        "CBABC\n",
        "\n",
        "n = 4\n",
        "\n",
        "---A---\n",
        "\n",
        "--BAB--\n",
        "\n",
        "-CBABC-\n",
        "\n",
        "DCBABCD"
      ],
      "metadata": {
        "id": "Qs6xU2rsY9md"
      }
    },
    {
      "cell_type": "code",
      "execution_count": 29,
      "metadata": {
        "id": "r0zAvhhGY2cC"
      },
      "outputs": [],
      "source": [
        "def F(n):\n",
        "    for i in range(n):\n",
        "        row = ''.join(chr(65 + abs(j)) for j in range(-i, i + 1))\n",
        "        print(row.center(2 * n - 1, '-'))\n"
      ]
    },
    {
      "cell_type": "code",
      "source": [
        "#tests\n",
        "\n",
        "F(10)"
      ],
      "metadata": {
        "colab": {
          "base_uri": "https://localhost:8080/"
        },
        "id": "h_muaSF3Z64Z",
        "outputId": "b3201c6d-7a4c-4b4b-dde6-d01375e6c504"
      },
      "execution_count": 30,
      "outputs": [
        {
          "output_type": "stream",
          "name": "stdout",
          "text": [
            "---------A---------\n",
            "--------BAB--------\n",
            "-------CBABC-------\n",
            "------DCBABCD------\n",
            "-----EDCBABCDE-----\n",
            "----FEDCBABCDEF----\n",
            "---GFEDCBABCDEFG---\n",
            "--HGFEDCBABCDEFGH--\n",
            "-IHGFEDCBABCDEFGHI-\n",
            "JIHGFEDCBABCDEFGHIJ\n"
          ]
        }
      ]
    },
    {
      "cell_type": "code",
      "source": [
        "F(6)"
      ],
      "metadata": {
        "colab": {
          "base_uri": "https://localhost:8080/"
        },
        "id": "CsqlWLw5wI-Z",
        "outputId": "b8eb1be5-d7fd-40f8-eceb-d3c9152c34c7"
      },
      "execution_count": 31,
      "outputs": [
        {
          "output_type": "stream",
          "name": "stdout",
          "text": [
            "-----A-----\n",
            "----BAB----\n",
            "---CBABC---\n",
            "--DCBABCD--\n",
            "-EDCBABCDE-\n",
            "FEDCBABCDEF\n"
          ]
        }
      ]
    },
    {
      "cell_type": "markdown",
      "source": [
        "## 1.b\n",
        "Make a function F that takes only one argument, a dictionary(dict) d. The keys of d are integers and the values of d are a tuple of type (x (int), y (int)). You must print out the dict in the format \"-key-, -x-, -y-\" with each entry in a new line. Print it for each of the three sorted orders, by key values ascending, by x values descending, by y values ascending."
      ],
      "metadata": {
        "id": "0k2v6ucxa9-5"
      }
    },
    {
      "cell_type": "code",
      "source": [
        "def extract_key(list):\n",
        "    return list[0]\n",
        "\n",
        "def extract_x(list):\n",
        "    return list[1][0]\n",
        "\n",
        "def extract_y(list):\n",
        "    return list[1][1]\n",
        "\n",
        "def F(d):\n",
        "    print(\"Sorted by key (ascending):\")\n",
        "    for key, (x, y) in sorted(d.items(), key=extract_key):\n",
        "        print(f\"-{key}-, -{x}-, -{y}-\")\n",
        "\n",
        "    print(\"\\nSorted by x (descending):\")\n",
        "    for key, (x, y) in sorted(d.items(), key=extract_x, reverse=True):\n",
        "        print(f\"-{key}-, -{x}-, -{y}-\")\n",
        "\n",
        "    print(\"\\nSorted by y (ascending):\")\n",
        "    for key, (x, y) in sorted(d.items(), key=extract_y):\n",
        "        print(f\"-{key}-, -{x}-, -{y}-\")\n",
        "\n",
        "\n"
      ],
      "metadata": {
        "id": "3l97AJSkaSJO"
      },
      "execution_count": 32,
      "outputs": []
    },
    {
      "cell_type": "code",
      "source": [
        "# Tests\n",
        "F({1 : (1, 2), 2 : (-1, 4), 5 : (-4, 3), 4 : (2, 3)})"
      ],
      "metadata": {
        "colab": {
          "base_uri": "https://localhost:8080/"
        },
        "id": "l2SP6qFuvV05",
        "outputId": "aa2fec38-7d3c-400d-9db8-4028e670c701"
      },
      "execution_count": 33,
      "outputs": [
        {
          "output_type": "stream",
          "name": "stdout",
          "text": [
            "Sorted by key (ascending):\n",
            "-1-, -1-, -2-\n",
            "-2-, --1-, -4-\n",
            "-4-, -2-, -3-\n",
            "-5-, --4-, -3-\n",
            "\n",
            "Sorted by x (descending):\n",
            "-4-, -2-, -3-\n",
            "-1-, -1-, -2-\n",
            "-2-, --1-, -4-\n",
            "-5-, --4-, -3-\n",
            "\n",
            "Sorted by y (ascending):\n",
            "-1-, -1-, -2-\n",
            "-5-, --4-, -3-\n",
            "-4-, -2-, -3-\n",
            "-2-, --1-, -4-\n"
          ]
        }
      ]
    },
    {
      "cell_type": "code",
      "source": [
        "F({-8 : (4, 2), 6 : (-3, 4), 7 : (2, 1), 5 : (9, -10)})"
      ],
      "metadata": {
        "colab": {
          "base_uri": "https://localhost:8080/"
        },
        "id": "Q6Ds_-Z8vas0",
        "outputId": "73984a89-0f53-4cb3-a87f-14452138f9dd"
      },
      "execution_count": 34,
      "outputs": [
        {
          "output_type": "stream",
          "name": "stdout",
          "text": [
            "Sorted by key (ascending):\n",
            "--8-, -4-, -2-\n",
            "-5-, -9-, --10-\n",
            "-6-, --3-, -4-\n",
            "-7-, -2-, -1-\n",
            "\n",
            "Sorted by x (descending):\n",
            "-5-, -9-, --10-\n",
            "--8-, -4-, -2-\n",
            "-7-, -2-, -1-\n",
            "-6-, --3-, -4-\n",
            "\n",
            "Sorted by y (ascending):\n",
            "-5-, -9-, --10-\n",
            "-7-, -2-, -1-\n",
            "--8-, -4-, -2-\n",
            "-6-, --3-, -4-\n"
          ]
        }
      ]
    },
    {
      "cell_type": "markdown",
      "source": [
        "# 2 Working with Student Records\n",
        "\n",
        "Use the data in student_records.csv to complete the given tasks. Do not include any external libraries. Use a Python dictionary if required.\n",
        "\n",
        "## 2.a: open the student_records.csv file and print out the first 10 rows"
      ],
      "metadata": {
        "id": "qAoCJ_aEwOtr"
      }
    },
    {
      "cell_type": "code",
      "source": [
        "from google.colab import files\n",
        "uploaded = files.upload()"
      ],
      "metadata": {
        "colab": {
          "base_uri": "https://localhost:8080/",
          "height": 73
        },
        "id": "OKRdk2-bvyZx",
        "outputId": "82bafdc6-605e-41be-d229-4a5ff95bc0fa"
      },
      "execution_count": 35,
      "outputs": [
        {
          "output_type": "display_data",
          "data": {
            "text/plain": [
              "<IPython.core.display.HTML object>"
            ],
            "text/html": [
              "\n",
              "     <input type=\"file\" id=\"files-aeb79674-b3c8-4967-a9d1-176cec2186be\" name=\"files[]\" multiple disabled\n",
              "        style=\"border:none\" />\n",
              "     <output id=\"result-aeb79674-b3c8-4967-a9d1-176cec2186be\">\n",
              "      Upload widget is only available when the cell has been executed in the\n",
              "      current browser session. Please rerun this cell to enable.\n",
              "      </output>\n",
              "      <script>// Copyright 2017 Google LLC\n",
              "//\n",
              "// Licensed under the Apache License, Version 2.0 (the \"License\");\n",
              "// you may not use this file except in compliance with the License.\n",
              "// You may obtain a copy of the License at\n",
              "//\n",
              "//      http://www.apache.org/licenses/LICENSE-2.0\n",
              "//\n",
              "// Unless required by applicable law or agreed to in writing, software\n",
              "// distributed under the License is distributed on an \"AS IS\" BASIS,\n",
              "// WITHOUT WARRANTIES OR CONDITIONS OF ANY KIND, either express or implied.\n",
              "// See the License for the specific language governing permissions and\n",
              "// limitations under the License.\n",
              "\n",
              "/**\n",
              " * @fileoverview Helpers for google.colab Python module.\n",
              " */\n",
              "(function(scope) {\n",
              "function span(text, styleAttributes = {}) {\n",
              "  const element = document.createElement('span');\n",
              "  element.textContent = text;\n",
              "  for (const key of Object.keys(styleAttributes)) {\n",
              "    element.style[key] = styleAttributes[key];\n",
              "  }\n",
              "  return element;\n",
              "}\n",
              "\n",
              "// Max number of bytes which will be uploaded at a time.\n",
              "const MAX_PAYLOAD_SIZE = 100 * 1024;\n",
              "\n",
              "function _uploadFiles(inputId, outputId) {\n",
              "  const steps = uploadFilesStep(inputId, outputId);\n",
              "  const outputElement = document.getElementById(outputId);\n",
              "  // Cache steps on the outputElement to make it available for the next call\n",
              "  // to uploadFilesContinue from Python.\n",
              "  outputElement.steps = steps;\n",
              "\n",
              "  return _uploadFilesContinue(outputId);\n",
              "}\n",
              "\n",
              "// This is roughly an async generator (not supported in the browser yet),\n",
              "// where there are multiple asynchronous steps and the Python side is going\n",
              "// to poll for completion of each step.\n",
              "// This uses a Promise to block the python side on completion of each step,\n",
              "// then passes the result of the previous step as the input to the next step.\n",
              "function _uploadFilesContinue(outputId) {\n",
              "  const outputElement = document.getElementById(outputId);\n",
              "  const steps = outputElement.steps;\n",
              "\n",
              "  const next = steps.next(outputElement.lastPromiseValue);\n",
              "  return Promise.resolve(next.value.promise).then((value) => {\n",
              "    // Cache the last promise value to make it available to the next\n",
              "    // step of the generator.\n",
              "    outputElement.lastPromiseValue = value;\n",
              "    return next.value.response;\n",
              "  });\n",
              "}\n",
              "\n",
              "/**\n",
              " * Generator function which is called between each async step of the upload\n",
              " * process.\n",
              " * @param {string} inputId Element ID of the input file picker element.\n",
              " * @param {string} outputId Element ID of the output display.\n",
              " * @return {!Iterable<!Object>} Iterable of next steps.\n",
              " */\n",
              "function* uploadFilesStep(inputId, outputId) {\n",
              "  const inputElement = document.getElementById(inputId);\n",
              "  inputElement.disabled = false;\n",
              "\n",
              "  const outputElement = document.getElementById(outputId);\n",
              "  outputElement.innerHTML = '';\n",
              "\n",
              "  const pickedPromise = new Promise((resolve) => {\n",
              "    inputElement.addEventListener('change', (e) => {\n",
              "      resolve(e.target.files);\n",
              "    });\n",
              "  });\n",
              "\n",
              "  const cancel = document.createElement('button');\n",
              "  inputElement.parentElement.appendChild(cancel);\n",
              "  cancel.textContent = 'Cancel upload';\n",
              "  const cancelPromise = new Promise((resolve) => {\n",
              "    cancel.onclick = () => {\n",
              "      resolve(null);\n",
              "    };\n",
              "  });\n",
              "\n",
              "  // Wait for the user to pick the files.\n",
              "  const files = yield {\n",
              "    promise: Promise.race([pickedPromise, cancelPromise]),\n",
              "    response: {\n",
              "      action: 'starting',\n",
              "    }\n",
              "  };\n",
              "\n",
              "  cancel.remove();\n",
              "\n",
              "  // Disable the input element since further picks are not allowed.\n",
              "  inputElement.disabled = true;\n",
              "\n",
              "  if (!files) {\n",
              "    return {\n",
              "      response: {\n",
              "        action: 'complete',\n",
              "      }\n",
              "    };\n",
              "  }\n",
              "\n",
              "  for (const file of files) {\n",
              "    const li = document.createElement('li');\n",
              "    li.append(span(file.name, {fontWeight: 'bold'}));\n",
              "    li.append(span(\n",
              "        `(${file.type || 'n/a'}) - ${file.size} bytes, ` +\n",
              "        `last modified: ${\n",
              "            file.lastModifiedDate ? file.lastModifiedDate.toLocaleDateString() :\n",
              "                                    'n/a'} - `));\n",
              "    const percent = span('0% done');\n",
              "    li.appendChild(percent);\n",
              "\n",
              "    outputElement.appendChild(li);\n",
              "\n",
              "    const fileDataPromise = new Promise((resolve) => {\n",
              "      const reader = new FileReader();\n",
              "      reader.onload = (e) => {\n",
              "        resolve(e.target.result);\n",
              "      };\n",
              "      reader.readAsArrayBuffer(file);\n",
              "    });\n",
              "    // Wait for the data to be ready.\n",
              "    let fileData = yield {\n",
              "      promise: fileDataPromise,\n",
              "      response: {\n",
              "        action: 'continue',\n",
              "      }\n",
              "    };\n",
              "\n",
              "    // Use a chunked sending to avoid message size limits. See b/62115660.\n",
              "    let position = 0;\n",
              "    do {\n",
              "      const length = Math.min(fileData.byteLength - position, MAX_PAYLOAD_SIZE);\n",
              "      const chunk = new Uint8Array(fileData, position, length);\n",
              "      position += length;\n",
              "\n",
              "      const base64 = btoa(String.fromCharCode.apply(null, chunk));\n",
              "      yield {\n",
              "        response: {\n",
              "          action: 'append',\n",
              "          file: file.name,\n",
              "          data: base64,\n",
              "        },\n",
              "      };\n",
              "\n",
              "      let percentDone = fileData.byteLength === 0 ?\n",
              "          100 :\n",
              "          Math.round((position / fileData.byteLength) * 100);\n",
              "      percent.textContent = `${percentDone}% done`;\n",
              "\n",
              "    } while (position < fileData.byteLength);\n",
              "  }\n",
              "\n",
              "  // All done.\n",
              "  yield {\n",
              "    response: {\n",
              "      action: 'complete',\n",
              "    }\n",
              "  };\n",
              "}\n",
              "\n",
              "scope.google = scope.google || {};\n",
              "scope.google.colab = scope.google.colab || {};\n",
              "scope.google.colab._files = {\n",
              "  _uploadFiles,\n",
              "  _uploadFilesContinue,\n",
              "};\n",
              "})(self);\n",
              "</script> "
            ]
          },
          "metadata": {}
        },
        {
          "output_type": "stream",
          "name": "stdout",
          "text": [
            "Saving student_records.csv to student_records.csv\n"
          ]
        }
      ]
    },
    {
      "cell_type": "code",
      "source": [
        "with open('student_records.csv', 'r') as file:\n",
        "    for i in range(11):  # Read the header + first 10 rows\n",
        "        print(file.readline())\n"
      ],
      "metadata": {
        "colab": {
          "base_uri": "https://localhost:8080/"
        },
        "id": "ttHUIk25ySA4",
        "outputId": "09b75cc1-1da9-44e6-a94b-4a74f827be61"
      },
      "execution_count": 36,
      "outputs": [
        {
          "output_type": "stream",
          "name": "stdout",
          "text": [
            "roll_number,department,credit,course_name,course_type,grade\n",
            "\n",
            "588946,MA,3,EC250,hasmed_elective,AB\n",
            "\n",
            "145372,EP,4,EP407,hasmed_elective,CC\n",
            "\n",
            "834515,MA,8,EP885,hasmed_elective,BB\n",
            "\n",
            "344265,CSE,6,CSE699,honours,AB\n",
            "\n",
            "358405,MA,3,EE460,minor,AP\n",
            "\n",
            "781075,CE,8,CE540,honours,CC\n",
            "\n",
            "180828,CSE,6,CE880,minor,AB\n",
            "\n",
            "981238,MM,4,CSE226,minor,AB\n",
            "\n",
            "836881,MM,8,MM530,core,AA\n",
            "\n",
            "310604,EE,8,EE202,core,AB\n",
            "\n"
          ]
        }
      ]
    },
    {
      "cell_type": "markdown",
      "source": [
        "## 2.b: Print out the total credits and calculte CPI of each student.\n",
        "CPI is the weighted average of core courses, and electives (weights being the letter grades converted to number AP,AA=10, AB=9, BB=9, BC=7, CC=6)"
      ],
      "metadata": {
        "id": "Zm3uNM3vTiaY"
      }
    },
    {
      "cell_type": "code",
      "source": [
        "import csv\n",
        "grade_to_points = {\"AP\": 10, \"AA\": 10, \"AB\": 9, \"BB\": 8, \"BC\": 7, \"CC\": 6}\n",
        "\n",
        "students = {}\n",
        "\n",
        "with open(\"student_records.csv\", \"r\") as file:\n",
        "    reader = csv.DictReader(file)\n",
        "    for row in reader:\n",
        "        roll_number = row[\"roll_number\"]\n",
        "        credit = int(row[\"credit\"])\n",
        "        grade = row[\"grade\"]\n",
        "\n",
        "        if roll_number not in students:\n",
        "            students[roll_number] = {\"total_credits\": 0, \"weighted_sum\": 0}\n",
        "\n",
        "        students[roll_number][\"total_credits\"] += credit\n",
        "\n",
        "        if grade in grade_to_points:\n",
        "            points = grade_to_points[grade]\n",
        "            students[roll_number][\"weighted_sum\"] += points * credit\n",
        "\n",
        "sorted_students = sorted(students.items())\n",
        "\n",
        "print(\"Roll Number | Total Credits | CPI\")\n",
        "print(\"---------------------------------\")\n",
        "for roll_number, data in sorted_students:\n",
        "    cpi = (\n",
        "        round(data[\"weighted_sum\"] / data[\"total_credits\"], 2)\n",
        "        if data[\"total_credits\"] > 0\n",
        "        else \"N/A\"\n",
        "    )\n",
        "    print(f\"{roll_number}      |           {data['total_credits']} | {cpi}\")\n"
      ],
      "metadata": {
        "colab": {
          "base_uri": "https://localhost:8080/"
        },
        "id": "iqB_EXhsONAM",
        "outputId": "46198dc8-5d1e-49ad-bf88-7123ad6f7974"
      },
      "execution_count": 37,
      "outputs": [
        {
          "output_type": "stream",
          "name": "stdout",
          "text": [
            "Roll Number | Total Credits | CPI\n",
            "---------------------------------\n",
            "124663      |           229 | 8.13\n",
            "138296      |           200 | 8.28\n",
            "143142      |           234 | 8.78\n",
            "143856      |           201 | 8.49\n",
            "144528      |           228 | 8.16\n",
            "145372      |           173 | 7.75\n",
            "150503      |           173 | 8.29\n",
            "159438      |           176 | 8.38\n",
            "180828      |           177 | 8.1\n",
            "194063      |           157 | 8.14\n",
            "199713      |           172 | 8.29\n",
            "203200      |           157 | 8.79\n",
            "207443      |           161 | 8.3\n",
            "208100      |           182 | 8.59\n",
            "214270      |           229 | 7.88\n",
            "265922      |           236 | 8.35\n",
            "270007      |           241 | 8.03\n",
            "282482      |           228 | 8.29\n",
            "283796      |           211 | 8.82\n",
            "294697      |           269 | 8.57\n",
            "301135      |           206 | 8.33\n",
            "310604      |           198 | 8.33\n",
            "327122      |           246 | 8.16\n",
            "329535      |           157 | 8.23\n",
            "344265      |           153 | 8.7\n",
            "358405      |           206 | 8.59\n",
            "362471      |           214 | 7.93\n",
            "364146      |           225 | 8.4\n",
            "379479      |           260 | 8.25\n",
            "381227      |           179 | 8.22\n",
            "381526      |           160 | 8.43\n",
            "388969      |           229 | 8.31\n",
            "391848      |           217 | 8.44\n",
            "458200      |           190 | 8.39\n",
            "461584      |           234 | 8.24\n",
            "461971      |           252 | 8.29\n",
            "465496      |           168 | 8.3\n",
            "478606      |           244 | 8.32\n",
            "482623      |           254 | 8.4\n",
            "485484      |           216 | 8.36\n",
            "488661      |           248 | 8.6\n",
            "500658      |           208 | 8.17\n",
            "517837      |           205 | 8.58\n",
            "521087      |           223 | 7.91\n",
            "534763      |           158 | 7.93\n",
            "571782      |           217 | 8.42\n",
            "572815      |           212 | 8.32\n",
            "581065      |           196 | 8.22\n",
            "581858      |           216 | 8.05\n",
            "582912      |           221 | 8.66\n",
            "588946      |           199 | 8.69\n",
            "589528      |           153 | 8.73\n",
            "597353      |           200 | 8.12\n",
            "608522      |           159 | 8.61\n",
            "608952      |           251 | 8.33\n",
            "613401      |           209 | 8.44\n",
            "626000      |           210 | 8.43\n",
            "628849      |           183 | 8.72\n",
            "630568      |           217 | 8.24\n",
            "680096      |           153 | 8.05\n",
            "681499      |           234 | 8.26\n",
            "692318      |           216 | 8.17\n",
            "703403      |           254 | 8.34\n",
            "716985      |           185 | 8.18\n",
            "718510      |           184 | 8.43\n",
            "721490      |           235 | 8.34\n",
            "733782      |           169 | 8.42\n",
            "750259      |           209 | 8.35\n",
            "773982      |           264 | 8.07\n",
            "775967      |           197 | 8.43\n",
            "781075      |           246 | 8.17\n",
            "782129      |           184 | 8.54\n",
            "787967      |           192 | 8.41\n",
            "788020      |           193 | 8.02\n",
            "810863      |           192 | 8.15\n",
            "816041      |           158 | 8.46\n",
            "834515      |           199 | 8.22\n",
            "836431      |           160 | 7.9\n",
            "836881      |           246 | 8.39\n",
            "841365      |           177 | 7.99\n",
            "845623      |           237 | 8.38\n",
            "847809      |           261 | 8.21\n",
            "851029      |           161 | 8.32\n",
            "870642      |           161 | 8.02\n",
            "871746      |           216 | 8.21\n",
            "879634      |           203 | 8.74\n",
            "881983      |           169 | 8.33\n",
            "888886      |           207 | 8.27\n",
            "907454      |           245 | 8.27\n",
            "928288      |           191 | 8.51\n",
            "955757      |           251 | 8.29\n",
            "960395      |           262 | 8.63\n",
            "970791      |           220 | 8.12\n",
            "971123      |           210 | 7.96\n",
            "973158      |           193 | 8.51\n",
            "981238      |           168 | 8.24\n",
            "986057      |           199 | 8.07\n",
            "993835      |           175 | 8.43\n",
            "995208      |           157 | 7.78\n",
            "998293      |           207 | 8.7\n"
          ]
        }
      ]
    },
    {
      "cell_type": "markdown",
      "source": [
        "## 2.c: Print out the names of all students who meet the graduation requirements\n",
        "Atleast 20 credits of core course, 15 credits of department elective, 10 credits of flexible elective and 5 credits of hasmed electives"
      ],
      "metadata": {
        "id": "xA2zrPI4Twv6"
      }
    },
    {
      "cell_type": "code",
      "source": [
        "num_items = len(students)\n",
        "print(f\"The dictionary has {num_items} students.\")"
      ],
      "metadata": {
        "colab": {
          "base_uri": "https://localhost:8080/"
        },
        "id": "thpufn-4c9sX",
        "outputId": "46f0cf31-c36a-4955-8c9c-23e68c6a31eb"
      },
      "execution_count": 38,
      "outputs": [
        {
          "output_type": "stream",
          "name": "stdout",
          "text": [
            "The dictionary has 100 students.\n"
          ]
        }
      ]
    },
    {
      "cell_type": "code",
      "source": [
        "import csv\n",
        "\n",
        "students_2 = {}\n",
        "\n",
        "\n",
        "with open('student_records.csv', 'r') as file:\n",
        "    reader = csv.DictReader(file)\n",
        "\n",
        "    for row in reader:\n",
        "        roll_no = row['roll_number']\n",
        "        course_type = row['course_type']\n",
        "        credits = int(row['credit'])\n",
        "\n",
        "\n",
        "        if roll_no not in students_2:\n",
        "            students_2[roll_no] = {\n",
        "                'core_credits': 0,\n",
        "                'department_elective_credits': 0,\n",
        "                'flexible_elective_credits': 0,\n",
        "                'hasmed_elective_credits': 0\n",
        "            }\n",
        "\n",
        "\n",
        "        if course_type == 'core':\n",
        "            students_2[roll_no]['core_credits'] += credits\n",
        "        elif course_type == 'department_elective':\n",
        "            students_2[roll_no]['department_elective_credits'] += credits\n",
        "        elif course_type == 'flexible_elective':\n",
        "            students_2[roll_no]['flexible_elective_credits'] += credits\n",
        "        elif course_type == 'hasmed_elective':\n",
        "            students_2[roll_no]['hasmed_elective_credits'] += credits\n",
        "\n",
        "\n",
        "\n",
        "\n",
        "print(\"Data after processing:\")\n",
        "print(\"Roll Number | Core Credits | department elective credits | flexible elective credits | hasmed elective credits |\")\n",
        "print(\"----------------------------------------------------------------------------------------------------------------\")\n",
        "for roll_no, data in students_2.items():\n",
        "    print(f\"{roll_number}      |{data['core_credits']:>14}|{data['department_elective_credits']:>29}|{data['flexible_elective_credits']:>27}|{data['hasmed_elective_credits']:>25}|\")\n",
        "\n",
        "\n",
        "\n"
      ],
      "metadata": {
        "colab": {
          "base_uri": "https://localhost:8080/"
        },
        "id": "HWue0pKeanil",
        "outputId": "df3aa474-ca5a-411f-805d-6fe846a7975a"
      },
      "execution_count": 56,
      "outputs": [
        {
          "output_type": "stream",
          "name": "stdout",
          "text": [
            "Data after processing:\n",
            "Roll Number | Core Credits | department elective credits | flexible elective credits | hasmed elective credits |\n",
            "----------------------------------------------------------------------------------------------------------------\n",
            "998293      |            34|                           30|                         25|                       26|\n",
            "998293      |            20|                           31|                          8|                       39|\n",
            "998293      |            50|                           15|                         53|                       28|\n",
            "998293      |            11|                           18|                         20|                       31|\n",
            "998293      |            15|                           12|                         49|                       44|\n",
            "998293      |            63|                           23|                         46|                       36|\n",
            "998293      |            29|                           22|                         40|                       23|\n",
            "998293      |            64|                           17|                         10|                       29|\n",
            "998293      |            24|                           37|                         11|                       44|\n",
            "998293      |            26|                           35|                         32|                       22|\n",
            "998293      |            15|                           22|                         18|                       45|\n",
            "998293      |            53|                           47|                         17|                       22|\n",
            "998293      |            34|                           37|                         14|                       43|\n",
            "998293      |            46|                           28|                         28|                        6|\n",
            "998293      |            53|                           22|                         19|                        6|\n",
            "998293      |            21|                           11|                         30|                       32|\n",
            "998293      |            31|                           29|                         20|                       31|\n",
            "998293      |            17|                           22|                         54|                       47|\n",
            "998293      |            10|                           28|                         18|                       21|\n",
            "998293      |            22|                           61|                         31|                       34|\n",
            "998293      |            23|                           32|                          6|                       57|\n",
            "998293      |             7|                           16|                         25|                       30|\n",
            "998293      |            72|                           16|                         31|                       36|\n",
            "998293      |            22|                           12|                         55|                       20|\n",
            "998293      |            39|                           15|                          3|                       33|\n",
            "998293      |            39|                            3|                         30|                       43|\n",
            "998293      |            26|                           28|                         28|                       30|\n",
            "998293      |            32|                           36|                         30|                       34|\n",
            "998293      |            10|                           21|                         17|                       20|\n",
            "998293      |            35|                           20|                          8|                       42|\n",
            "998293      |            16|                           38|                         16|                       44|\n",
            "998293      |            26|                           41|                         40|                       62|\n",
            "998293      |            47|                           25|                         34|                       30|\n",
            "998293      |            31|                           26|                         28|                       41|\n",
            "998293      |            29|                           16|                         16|                       40|\n",
            "998293      |            47|                           21|                         25|                       30|\n",
            "998293      |            63|                           25|                         26|                       56|\n",
            "998293      |            25|                           41|                         28|                       36|\n",
            "998293      |            24|                           14|                         49|                        9|\n",
            "998293      |            53|                           29|                         23|                       17|\n",
            "998293      |            23|                           23|                         14|                       33|\n",
            "998293      |            22|                           37|                         28|                       24|\n",
            "998293      |            27|                           30|                         18|                       33|\n",
            "998293      |            34|                           33|                         17|                       38|\n",
            "998293      |            37|                           24|                         19|                        7|\n",
            "998293      |            42|                           39|                         44|                       44|\n",
            "998293      |            33|                           16|                         46|                       14|\n",
            "998293      |            31|                           34|                         41|                        6|\n",
            "998293      |             7|                           40|                         24|                       32|\n",
            "998293      |            51|                           25|                         49|                       38|\n",
            "998293      |            45|                           38|                         19|                       12|\n",
            "998293      |            37|                           19|                         16|                       21|\n",
            "998293      |            19|                           28|                         38|                       14|\n",
            "998293      |            60|                           32|                         59|                       39|\n",
            "998293      |            13|                           20|                         24|                       29|\n",
            "998293      |            23|                           30|                         11|                       37|\n",
            "998293      |            35|                           59|                         28|                       32|\n",
            "998293      |            25|                            8|                         56|                        7|\n",
            "998293      |            31|                           16|                         31|                       31|\n",
            "998293      |            45|                           21|                         14|                       31|\n",
            "998293      |            42|                           42|                         32|                       37|\n",
            "998293      |            34|                           24|                         15|                       24|\n",
            "998293      |            32|                           27|                         33|                       35|\n",
            "998293      |            50|                           42|                         14|                       40|\n",
            "998293      |            14|                           21|                         61|                        3|\n",
            "998293      |            45|                           26|                         39|                       20|\n",
            "998293      |            26|                           23|                         42|                       13|\n",
            "998293      |            40|                           28|                         56|                       32|\n",
            "998293      |            25|                           29|                         15|                       18|\n",
            "998293      |            28|                           45|                         21|                       39|\n",
            "998293      |            43|                           36|                         30|                       11|\n",
            "998293      |            36|                           25|                         24|                       19|\n",
            "998293      |            11|                           53|                         51|                       36|\n",
            "998293      |            21|                            6|                         33|                       28|\n",
            "998293      |             7|                           46|                         23|                       37|\n",
            "998293      |            29|                            8|                         31|                       28|\n",
            "998293      |            34|                           30|                         27|                       12|\n",
            "998293      |            26|                           31|                         34|                       44|\n",
            "998293      |            24|                           55|                         31|                       40|\n",
            "998293      |            16|                           38|                          8|                       39|\n",
            "998293      |            34|                           32|                         42|                       40|\n",
            "998293      |            53|                           33|                         22|                       19|\n",
            "998293      |            26|                           22|                         24|                       30|\n",
            "998293      |            39|                           28|                         36|                       50|\n",
            "998293      |            22|                           12|                         32|                       16|\n",
            "998293      |            31|                           10|                         44|                       23|\n",
            "998293      |            14|                           70|                         16|                       14|\n",
            "998293      |             6|                           46|                         19|                       46|\n",
            "998293      |            33|                           44|                         44|                       26|\n",
            "998293      |            18|                           47|                         40|                       42|\n",
            "998293      |            23|                           38|                         23|                       54|\n",
            "998293      |            66|                           25|                         16|                        4|\n",
            "998293      |            21|                           35|                         11|                       19|\n",
            "998293      |            22|                           39|                         27|                       32|\n",
            "998293      |            25|                           41|                         17|                       34|\n",
            "998293      |            36|                           24|                         33|                       31|\n",
            "998293      |            25|                           22|                         22|                       29|\n",
            "998293      |            38|                           25|                         54|                       56|\n",
            "998293      |            41|                           13|                         22|                       14|\n",
            "998293      |            15|                           50|                         22|                       12|\n"
          ]
        }
      ]
    },
    {
      "cell_type": "code",
      "source": [
        "print(\"\\nStudents meeting graduation requirements:\")\n",
        "for roll_no, data in students_2.items():\n",
        "    if (data['core_credits'] >= 20 and\n",
        "        data['department_elective_credits'] >= 15 and\n",
        "        data['flexible_elective_credits'] >= 10 and\n",
        "        data['hasmed_elective_credits'] >= 5):\n",
        "        print(f\"Student {roll_no} \")\n"
      ],
      "metadata": {
        "colab": {
          "base_uri": "https://localhost:8080/"
        },
        "id": "3jJcqMYVfZdD",
        "outputId": "6ab00e3c-ead2-4ae1-d24d-47f78e26d314"
      },
      "execution_count": 57,
      "outputs": [
        {
          "output_type": "stream",
          "name": "stdout",
          "text": [
            "\n",
            "Students meeting graduation requirements:\n",
            "Student 588946 \n",
            "Student 834515 \n",
            "Student 781075 \n",
            "Student 180828 \n",
            "Student 981238 \n",
            "Student 836881 \n",
            "Student 310604 \n",
            "Student 773982 \n",
            "Student 500658 \n",
            "Student 810863 \n",
            "Student 124663 \n",
            "Student 871746 \n",
            "Student 986057 \n",
            "Student 379479 \n",
            "Student 144528 \n",
            "Student 485484 \n",
            "Student 845623 \n",
            "Student 150503 \n",
            "Student 214270 \n",
            "Student 517837 \n",
            "Student 482623 \n",
            "Student 721490 \n",
            "Student 955757 \n",
            "Student 143856 \n",
            "Student 571782 \n",
            "Student 973158 \n",
            "Student 703403 \n",
            "Student 960395 \n",
            "Student 521087 \n",
            "Student 461971 \n",
            "Student 879634 \n",
            "Student 716985 \n",
            "Student 265922 \n",
            "Student 283796 \n",
            "Student 203200 \n",
            "Student 327122 \n",
            "Student 534763 \n",
            "Student 391848 \n",
            "Student 971123 \n",
            "Student 207443 \n",
            "Student 488661 \n",
            "Student 782129 \n",
            "Student 928288 \n",
            "Student 581858 \n",
            "Student 282482 \n",
            "Student 572815 \n",
            "Student 608952 \n",
            "Student 628849 \n",
            "Student 630568 \n",
            "Student 388969 \n",
            "Student 159438 \n",
            "Student 970791 \n",
            "Student 143142 \n",
            "Student 998293 \n",
            "Student 681499 \n",
            "Student 888886 \n",
            "Student 608522 \n",
            "Student 362471 \n",
            "Student 692318 \n",
            "Student 626000 \n",
            "Student 581065 \n",
            "Student 787967 \n",
            "Student 381227 \n",
            "Student 750259 \n",
            "Student 881983 \n",
            "Student 294697 \n"
          ]
        }
      ]
    },
    {
      "cell_type": "code",
      "source": [
        "num_items = len(students_2)\n",
        "print(f\"The dictionary has {num_items} students.\")"
      ],
      "metadata": {
        "colab": {
          "base_uri": "https://localhost:8080/"
        },
        "id": "Q5Bmv7Pjbz6e",
        "outputId": "3ed93e96-2fe4-4eb3-f22c-3953eca3cbde"
      },
      "execution_count": 58,
      "outputs": [
        {
          "output_type": "stream",
          "name": "stdout",
          "text": [
            "The dictionary has 100 students.\n"
          ]
        }
      ]
    },
    {
      "cell_type": "markdown",
      "source": [
        "##2.d: Print out the names of all students who completed a minor\n",
        "Atleast 10 credits with minor tag in a specific department"
      ],
      "metadata": {
        "id": "zZcLtbzWgP-J"
      }
    },
    {
      "cell_type": "code",
      "source": [
        "import csv\n",
        "\n",
        "students_minor = {}\n",
        "\n",
        "with open('student_records.csv', 'r') as file:\n",
        "    reader = csv.DictReader(file)\n",
        "\n",
        "    for row in reader:\n",
        "        roll_no = row['roll_number']\n",
        "        course_type = row['course_type']\n",
        "        course_name = row['course_name']\n",
        "        credits = int(row['credit'])\n",
        "\n",
        "\n",
        "        course_department = course_name[:2]\n",
        "\n",
        "        if course_type == 'minor' and course_department:\n",
        "            if roll_no not in students_minor:\n",
        "                students_minor[roll_no] = {}\n",
        "\n",
        "\n",
        "            if course_department not in students_minor[roll_no]:\n",
        "                students_minor[roll_no][course_department] = 0\n",
        "\n",
        "\n",
        "            students_minor[roll_no][course_department] += credits\n",
        "\n",
        "print(\"Roll number| Depatment of minor | Credits |\")\n",
        "print(\"--------------------------------------------\")\n",
        "for roll_no, departments in students_minor.items():\n",
        "    for department, credits in departments.items():\n",
        "        if credits >= 10:\n",
        "          print(f\"{roll_no:>12}|{department:>20}|{credits:>9}|\")\n",
        "\n",
        "\n"
      ],
      "metadata": {
        "colab": {
          "base_uri": "https://localhost:8080/"
        },
        "id": "ZqONSWwolzfx",
        "outputId": "0a0df13f-edf1-4012-f64e-40c51d3ec498"
      },
      "execution_count": 61,
      "outputs": [
        {
          "output_type": "stream",
          "name": "stdout",
          "text": [
            "Roll number| Depatment of minor | Credits |\n",
            "--------------------------------------------\n",
            "      358405|                  CH|       12|\n",
            "      847809|                  ME|       20|\n",
            "      847809|                  EP|       16|\n",
            "      847809|                  CH|       12|\n",
            "      847809|                  EE|       10|\n",
            "      781075|                  EC|       11|\n",
            "      124663|                  CE|       17|\n",
            "      364146|                  MM|       10|\n",
            "      364146|                  EC|       12|\n",
            "      721490|                  ME|       14|\n",
            "      571782|                  MA|       17|\n",
            "      716985|                  CS|       12|\n",
            "      716985|                  CE|       16|\n",
            "      482623|                  CS|       11|\n",
            "      482623|                  CH|       16|\n",
            "      329535|                  EP|       11|\n",
            "      810863|                  EP|       18|\n",
            "      810863|                  CS|       10|\n",
            "      973158|                  ME|       12|\n",
            "      973158|                  CH|       11|\n",
            "      143142|                  MA|       14|\n",
            "      907454|                  IE|       12|\n",
            "      907454|                  EP|       11|\n",
            "      907454|                  MA|       13|\n",
            "      888886|                  IE|       18|\n",
            "      888886|                  MM|       13|\n",
            "      608952|                  ME|       12|\n",
            "      143856|                  ME|       11|\n",
            "      773982|                  CE|       10|\n",
            "      960395|                  MA|       11|\n",
            "      960395|                  IE|       10|\n",
            "      283796|                  MA|       16|\n",
            "      461584|                  CH|       20|\n",
            "      597353|                  IE|       10|\n",
            "      597353|                  MM|       16|\n",
            "      845623|                  EP|       10|\n",
            "      465496|                  CE|       15|\n",
            "      465496|                  ME|       14|\n",
            "      465496|                  IE|       11|\n",
            "      718510|                  IE|       10|\n",
            "      718510|                  MM|       14|\n",
            "      836881|                  CH|       10|\n",
            "      836881|                  EE|       16|\n",
            "      836881|                  EP|       14|\n",
            "      344265|                  ME|       15|\n",
            "      344265|                  CE|       10|\n",
            "      581858|                  CH|       16|\n",
            "      138296|                  EC|       10|\n",
            "      381526|                  CS|       10|\n",
            "      681499|                  CE|       19|\n",
            "      816041|                  IE|       12|\n",
            "      971123|                  CS|       15|\n",
            "      199713|                  CE|       24|\n",
            "      630568|                  EC|       14|\n",
            "      379479|                  CH|       10|\n",
            "      703403|                  CS|       10|\n",
            "      703403|                  ME|       14|\n",
            "      703403|                  EE|       15|\n",
            "      388969|                  CE|       12|\n",
            "      388969|                  EP|       11|\n",
            "      836431|                  CS|       14|\n",
            "      381227|                  CS|       22|\n",
            "      478606|                  EC|       12|\n",
            "      159438|                  IE|       16|\n",
            "      733782|                  IE|       10|\n",
            "      782129|                  MM|       14|\n",
            "      144528|                  MA|       23|\n",
            "      851029|                  MM|       12|\n",
            "      628849|                  EC|       12|\n",
            "      628849|                  MM|       11|\n",
            "      628849|                  EP|       19|\n",
            "      995208|                  CS|       13|\n",
            "      613401|                  EC|       12|\n",
            "      301135|                  EE|       11|\n",
            "      788020|                  IE|       14|\n",
            "      788020|                  MA|       14|\n",
            "      955757|                  MA|       16|\n",
            "      572815|                  CE|       12|\n",
            "      521087|                  MM|       11|\n",
            "      214270|                  IE|       10|\n",
            "      461971|                  ME|       11|\n",
            "      461971|                  EP|       12|\n",
            "      145372|                  EC|       10|\n",
            "      145372|                  EE|       10|\n",
            "      588946|                  ME|       12|\n",
            "      588946|                  EP|       19|\n",
            "      581065|                  CH|       11|\n",
            "      581065|                  EE|       11|\n",
            "      993835|                  CS|       12|\n"
          ]
        }
      ]
    },
    {
      "cell_type": "markdown",
      "source": [
        "##2.e: Print out the names of all students who completed a honours\n",
        "Atleast 10 credits with honours tag and 20 core credits"
      ],
      "metadata": {
        "id": "YMWg8ggBpJ4y"
      }
    },
    {
      "cell_type": "code",
      "source": [
        "import csv\n",
        "\n",
        "students_honours = {}\n",
        "\n",
        "with open('student_records.csv', 'r') as file:\n",
        "    reader = csv.DictReader(file)\n",
        "\n",
        "    for row in reader:\n",
        "        roll_no = row['roll_number']\n",
        "        course_type = row['course_type']\n",
        "        course_name = row['course_name']\n",
        "        credits = int(row['credit'])\n",
        "\n",
        "\n",
        "        if roll_no not in students_honours:\n",
        "            students_honours[roll_no] = {\n",
        "                'honours_credits': 0,\n",
        "                'core_credits': 0\n",
        "            }\n",
        "\n",
        "\n",
        "        if course_type == 'honours':\n",
        "            students_honours[roll_no]['honours_credits'] += credits\n",
        "        elif course_type == 'core':\n",
        "            students_honours[roll_no]['core_credits'] += credits\n",
        "\n",
        "print(\"Data after processing:\")\n",
        "print(\"Roll Number | Honours Credits | Core Credits |\")\n",
        "print(\"------------------------------------------------\")\n",
        "for roll_no, data in students_honours.items():\n",
        "    print(f\"{roll_no:>12}|{data['honours_credits']:>17}|{data['core_credits']:>14}|\")\n",
        "\n",
        "\n"
      ],
      "metadata": {
        "colab": {
          "base_uri": "https://localhost:8080/"
        },
        "id": "OxcfF1qLpV7g",
        "outputId": "55842da8-196d-407b-a637-9299db006b63"
      },
      "execution_count": 63,
      "outputs": [
        {
          "output_type": "stream",
          "name": "stdout",
          "text": [
            "Data after processing:\n",
            "Roll Number | Honours Credits | Core Credits |\n",
            "------------------------------------------------\n",
            "      588946|               20|            34|\n",
            "      145372|               18|            20|\n",
            "      834515|               32|            50|\n",
            "      344265|               27|            11|\n",
            "      358405|               34|            15|\n",
            "      781075|               32|            63|\n",
            "      180828|                7|            29|\n",
            "      981238|                8|            64|\n",
            "      836881|               28|            24|\n",
            "      310604|               31|            26|\n",
            "      847809|               16|            15|\n",
            "      773982|               57|            53|\n",
            "      500658|               26|            34|\n",
            "      810863|               13|            46|\n",
            "      124663|               43|            53|\n",
            "      364146|               40|            21|\n",
            "      871746|               28|            31|\n",
            "      270007|               37|            17|\n",
            "      597353|               18|            10|\n",
            "      986057|               14|            22|\n",
            "      718510|               24|            23|\n",
            "      836431|               42|             7|\n",
            "      379479|               52|            72|\n",
            "      582912|               54|            22|\n",
            "      788020|               24|            39|\n",
            "      613401|               54|            39|\n",
            "      144528|               51|            26|\n",
            "      485484|               42|            32|\n",
            "      680096|               48|            10|\n",
            "      199713|               21|            35|\n",
            "      851029|               23|            16|\n",
            "      845623|               11|            26|\n",
            "      150503|               19|            47|\n",
            "      214270|               38|            31|\n",
            "      517837|               41|            29|\n",
            "      482623|               42|            47|\n",
            "      721490|               15|            63|\n",
            "      955757|               22|            25|\n",
            "      589528|               30|            24|\n",
            "      143856|               15|            53|\n",
            "      571782|               32|            23|\n",
            "      973158|               15|            22|\n",
            "      703403|               54|            27|\n",
            "      960395|               50|            34|\n",
            "      521087|               45|            37|\n",
            "      461971|               16|            42|\n",
            "      879634|               23|            33|\n",
            "      716985|               11|            31|\n",
            "      194063|               29|             7|\n",
            "      265922|               15|            51|\n",
            "      283796|               35|            45|\n",
            "      203200|               26|            37|\n",
            "      301135|               37|            19|\n",
            "      327122|               15|            60|\n",
            "      381526|               32|            13|\n",
            "      534763|               25|            23|\n",
            "      391848|               15|            35|\n",
            "      329535|                6|            25|\n",
            "      971123|               33|            31|\n",
            "      207443|               18|            45|\n",
            "      488661|               24|            42|\n",
            "      782129|               25|            34|\n",
            "      928288|               30|            32|\n",
            "      581858|               24|            50|\n",
            "      733782|               16|            14|\n",
            "      282482|               55|            45|\n",
            "      572815|               28|            26|\n",
            "      608952|               34|            40|\n",
            "      628849|               33|            25|\n",
            "      630568|               48|            28|\n",
            "      388969|               22|            43|\n",
            "      159438|               12|            36|\n",
            "      478606|               31|            11|\n",
            "      995208|                9|            21|\n",
            "      841365|               29|             7|\n",
            "      870642|               16|            29|\n",
            "      970791|               54|            34|\n",
            "      143142|               38|            26|\n",
            "      998293|               18|            24|\n",
            "      907454|               48|            16|\n",
            "      681499|               23|            34|\n",
            "      888886|               23|            53|\n",
            "      608522|               11|            26|\n",
            "      362471|               14|            39|\n",
            "      465496|               32|            22|\n",
            "      208100|               17|            31|\n",
            "      138296|               36|            14|\n",
            "      775967|               24|             6|\n",
            "      692318|               20|            33|\n",
            "      461584|               41|            18|\n",
            "      626000|               36|            23|\n",
            "      458200|               26|            66|\n",
            "      581065|               32|            21|\n",
            "      787967|               35|            22|\n",
            "      381227|                3|            25|\n",
            "      750259|               23|            36|\n",
            "      881983|               41|            25|\n",
            "      294697|               35|            38|\n",
            "      816041|                9|            41|\n",
            "      993835|               23|            15|\n"
          ]
        }
      ]
    },
    {
      "cell_type": "code",
      "source": [
        "print(\"\\nStudents meeting honours requirements:\")\n",
        "for roll_no, data in students_honours.items():\n",
        "    if data['honours_credits'] >= 10 and data['core_credits'] >= 20:\n",
        "        print(f\"Student-{roll_no}\")"
      ],
      "metadata": {
        "colab": {
          "base_uri": "https://localhost:8080/"
        },
        "id": "SvGocwp8p4T7",
        "outputId": "acdd4ea4-fe77-46a3-9515-43abdcdd1475"
      },
      "execution_count": 64,
      "outputs": [
        {
          "output_type": "stream",
          "name": "stdout",
          "text": [
            "\n",
            "Students meeting honours requirements:\n",
            "Student-588946\n",
            "Student-145372\n",
            "Student-834515\n",
            "Student-781075\n",
            "Student-836881\n",
            "Student-310604\n",
            "Student-773982\n",
            "Student-500658\n",
            "Student-810863\n",
            "Student-124663\n",
            "Student-364146\n",
            "Student-871746\n",
            "Student-986057\n",
            "Student-718510\n",
            "Student-379479\n",
            "Student-582912\n",
            "Student-788020\n",
            "Student-613401\n",
            "Student-144528\n",
            "Student-485484\n",
            "Student-199713\n",
            "Student-845623\n",
            "Student-150503\n",
            "Student-214270\n",
            "Student-517837\n",
            "Student-482623\n",
            "Student-721490\n",
            "Student-955757\n",
            "Student-589528\n",
            "Student-143856\n",
            "Student-571782\n",
            "Student-973158\n",
            "Student-703403\n",
            "Student-960395\n",
            "Student-521087\n",
            "Student-461971\n",
            "Student-879634\n",
            "Student-716985\n",
            "Student-265922\n",
            "Student-283796\n",
            "Student-203200\n",
            "Student-327122\n",
            "Student-534763\n",
            "Student-391848\n",
            "Student-971123\n",
            "Student-207443\n",
            "Student-488661\n",
            "Student-782129\n",
            "Student-928288\n",
            "Student-581858\n",
            "Student-282482\n",
            "Student-572815\n",
            "Student-608952\n",
            "Student-628849\n",
            "Student-630568\n",
            "Student-388969\n",
            "Student-159438\n",
            "Student-870642\n",
            "Student-970791\n",
            "Student-143142\n",
            "Student-998293\n",
            "Student-681499\n",
            "Student-888886\n",
            "Student-608522\n",
            "Student-362471\n",
            "Student-465496\n",
            "Student-208100\n",
            "Student-692318\n",
            "Student-626000\n",
            "Student-458200\n",
            "Student-581065\n",
            "Student-787967\n",
            "Student-750259\n",
            "Student-881983\n",
            "Student-294697\n"
          ]
        }
      ]
    },
    {
      "cell_type": "markdown",
      "source": [
        "# SciPy\n",
        "\n",
        "## Part A\n",
        "\n",
        "Minimize the function\n",
        "![image.png](data:image/png;base64,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)\n",
        "\n",
        "With the constraints :\n",
        "![image.png](data:image/png;base64,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)\n",
        "Using scipy.optimize.minimize with constraints. (Hint: Look at the examples in the official documentation)"
      ],
      "metadata": {
        "id": "X1TOZwCUqlLw"
      }
    },
    {
      "cell_type": "code",
      "source": [
        "import numpy as np\n",
        "from scipy.optimize import minimize\n",
        "\n",
        "def function(var):\n",
        "  x, y = var[0], var[1]\n",
        "  return 2*(x - y - 3)**2 + 4*(x + 2*y + 1)**4\n",
        "def constraint1(var):\n",
        "  x, y = var[0], var[1]\n",
        "  return x - y + 3\n",
        "def constraint2(var):\n",
        "  x, y = var[0], var[1]\n",
        "  return 5 - ((x + 2)**2 + (y + 1)**2)\n",
        "\n",
        "\n",
        "\n",
        "\n",
        "constraints = [\n",
        "    {'type': 'ineq', 'fun': constraint1},\n",
        "    {'type': 'ineq', 'fun': constraint2}\n",
        "]\n",
        "\n",
        "result = minimize(function, (0,0), constraints=constraints)\n",
        "\n",
        "\n",
        "if result.success:\n",
        "    optimal_x, optimal_y = result.x\n",
        "    optimal_value = function(result.x)\n",
        "    print(f\"Optimal solution: x = {optimal_x}, y = {optimal_y}\")\n",
        "    print(f\"Value of the objective function at the optimal solution: {optimal_value}\")\n",
        "else:\n",
        "    print(\"Optimization did not converge.\")\n"
      ],
      "metadata": {
        "colab": {
          "base_uri": "https://localhost:8080/"
        },
        "id": "Rf4u657HrKuW",
        "outputId": "be1f7ab7-c2c1-41e2-fe14-9ad97d6b0766"
      },
      "execution_count": 65,
      "outputs": [
        {
          "output_type": "stream",
          "name": "stdout",
          "text": [
            "Optimal solution: x = 0.2349250275449747, y = -0.928514887569978\n",
            "Value of the objective function at the optimal solution: 7.345026216976594\n"
          ]
        }
      ]
    },
    {
      "cell_type": "markdown",
      "source": [
        "## Part B\n",
        "Evaluate the line integral of the function\n",
        "\n",
        "![image.png](data:image/png;base64,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)\n",
        " along the circle\n",
        "![image.png](data:image/png;base64,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)\n",
        "\n",
        " anticlockwise (scalar integral, not vector). You must use scipy for integration but you may use parameterization"
      ],
      "metadata": {
        "id": "cAq54BoeXGd7"
      }
    },
    {
      "cell_type": "code",
      "source": [
        "import numpy as np\n",
        "from scipy.integrate import quad\n",
        "\n",
        "def integrand(theta):\n",
        "\n",
        "  x = np.sqrt(3) * np.cos(theta)\n",
        "  y = np.sqrt(3) * np.sin(theta)\n",
        "\n",
        "  f = x**2 + y**4\n",
        "\n",
        "  dx_dtheta = np.sqrt(3) * -np.sin(theta)\n",
        "  dy_dtheta = np.sqrt(3) * np.cos(theta)\n",
        "\n",
        "\n",
        "  arc_length_differential = np.sqrt(dx_dtheta**2 + dy_dtheta**2)\n",
        "\n",
        "  return f * arc_length_differential\n",
        "\n",
        "\n",
        "result, error = quad(integrand, 0, 2 * np.pi)\n",
        "\n",
        "print(f\"The line integral is: {result:.4f}\")\n",
        "print(f\"The estimated error is: {error}\")"
      ],
      "metadata": {
        "colab": {
          "base_uri": "https://localhost:8080/"
        },
        "id": "7H6AzfZyS28T",
        "outputId": "4cd6b2e5-a20f-4fa5-895b-f218507b70bf"
      },
      "execution_count": 66,
      "outputs": [
        {
          "output_type": "stream",
          "name": "stdout",
          "text": [
            "The line integral is: 53.0536\n",
            "The estimated error is: 5.376843748017279e-09\n"
          ]
        }
      ]
    },
    {
      "cell_type": "markdown",
      "source": [
        "# Numpy\n",
        "\n"
      ],
      "metadata": {
        "id": "yTeQLhtebSNG"
      }
    },
    {
      "cell_type": "code",
      "source": [
        "import time # to time the execution\n",
        "import numpy as np\n",
        "import matplotlib.pyplot as plt"
      ],
      "metadata": {
        "id": "tlBXFn7LbY8k"
      },
      "execution_count": 67,
      "outputs": []
    },
    {
      "cell_type": "code",
      "source": [
        "from google.colab import files\n",
        "uploaded = files.upload()"
      ],
      "metadata": {
        "colab": {
          "base_uri": "https://localhost:8080/",
          "height": 73
        },
        "id": "n5x2F1umb4g4",
        "outputId": "7d4aabe0-1005-438e-8295-41cfaf80bc18"
      },
      "execution_count": 68,
      "outputs": [
        {
          "output_type": "display_data",
          "data": {
            "text/plain": [
              "<IPython.core.display.HTML object>"
            ],
            "text/html": [
              "\n",
              "     <input type=\"file\" id=\"files-6c910ec1-b8c9-4f25-91d4-e9b318d9b27a\" name=\"files[]\" multiple disabled\n",
              "        style=\"border:none\" />\n",
              "     <output id=\"result-6c910ec1-b8c9-4f25-91d4-e9b318d9b27a\">\n",
              "      Upload widget is only available when the cell has been executed in the\n",
              "      current browser session. Please rerun this cell to enable.\n",
              "      </output>\n",
              "      <script>// Copyright 2017 Google LLC\n",
              "//\n",
              "// Licensed under the Apache License, Version 2.0 (the \"License\");\n",
              "// you may not use this file except in compliance with the License.\n",
              "// You may obtain a copy of the License at\n",
              "//\n",
              "//      http://www.apache.org/licenses/LICENSE-2.0\n",
              "//\n",
              "// Unless required by applicable law or agreed to in writing, software\n",
              "// distributed under the License is distributed on an \"AS IS\" BASIS,\n",
              "// WITHOUT WARRANTIES OR CONDITIONS OF ANY KIND, either express or implied.\n",
              "// See the License for the specific language governing permissions and\n",
              "// limitations under the License.\n",
              "\n",
              "/**\n",
              " * @fileoverview Helpers for google.colab Python module.\n",
              " */\n",
              "(function(scope) {\n",
              "function span(text, styleAttributes = {}) {\n",
              "  const element = document.createElement('span');\n",
              "  element.textContent = text;\n",
              "  for (const key of Object.keys(styleAttributes)) {\n",
              "    element.style[key] = styleAttributes[key];\n",
              "  }\n",
              "  return element;\n",
              "}\n",
              "\n",
              "// Max number of bytes which will be uploaded at a time.\n",
              "const MAX_PAYLOAD_SIZE = 100 * 1024;\n",
              "\n",
              "function _uploadFiles(inputId, outputId) {\n",
              "  const steps = uploadFilesStep(inputId, outputId);\n",
              "  const outputElement = document.getElementById(outputId);\n",
              "  // Cache steps on the outputElement to make it available for the next call\n",
              "  // to uploadFilesContinue from Python.\n",
              "  outputElement.steps = steps;\n",
              "\n",
              "  return _uploadFilesContinue(outputId);\n",
              "}\n",
              "\n",
              "// This is roughly an async generator (not supported in the browser yet),\n",
              "// where there are multiple asynchronous steps and the Python side is going\n",
              "// to poll for completion of each step.\n",
              "// This uses a Promise to block the python side on completion of each step,\n",
              "// then passes the result of the previous step as the input to the next step.\n",
              "function _uploadFilesContinue(outputId) {\n",
              "  const outputElement = document.getElementById(outputId);\n",
              "  const steps = outputElement.steps;\n",
              "\n",
              "  const next = steps.next(outputElement.lastPromiseValue);\n",
              "  return Promise.resolve(next.value.promise).then((value) => {\n",
              "    // Cache the last promise value to make it available to the next\n",
              "    // step of the generator.\n",
              "    outputElement.lastPromiseValue = value;\n",
              "    return next.value.response;\n",
              "  });\n",
              "}\n",
              "\n",
              "/**\n",
              " * Generator function which is called between each async step of the upload\n",
              " * process.\n",
              " * @param {string} inputId Element ID of the input file picker element.\n",
              " * @param {string} outputId Element ID of the output display.\n",
              " * @return {!Iterable<!Object>} Iterable of next steps.\n",
              " */\n",
              "function* uploadFilesStep(inputId, outputId) {\n",
              "  const inputElement = document.getElementById(inputId);\n",
              "  inputElement.disabled = false;\n",
              "\n",
              "  const outputElement = document.getElementById(outputId);\n",
              "  outputElement.innerHTML = '';\n",
              "\n",
              "  const pickedPromise = new Promise((resolve) => {\n",
              "    inputElement.addEventListener('change', (e) => {\n",
              "      resolve(e.target.files);\n",
              "    });\n",
              "  });\n",
              "\n",
              "  const cancel = document.createElement('button');\n",
              "  inputElement.parentElement.appendChild(cancel);\n",
              "  cancel.textContent = 'Cancel upload';\n",
              "  const cancelPromise = new Promise((resolve) => {\n",
              "    cancel.onclick = () => {\n",
              "      resolve(null);\n",
              "    };\n",
              "  });\n",
              "\n",
              "  // Wait for the user to pick the files.\n",
              "  const files = yield {\n",
              "    promise: Promise.race([pickedPromise, cancelPromise]),\n",
              "    response: {\n",
              "      action: 'starting',\n",
              "    }\n",
              "  };\n",
              "\n",
              "  cancel.remove();\n",
              "\n",
              "  // Disable the input element since further picks are not allowed.\n",
              "  inputElement.disabled = true;\n",
              "\n",
              "  if (!files) {\n",
              "    return {\n",
              "      response: {\n",
              "        action: 'complete',\n",
              "      }\n",
              "    };\n",
              "  }\n",
              "\n",
              "  for (const file of files) {\n",
              "    const li = document.createElement('li');\n",
              "    li.append(span(file.name, {fontWeight: 'bold'}));\n",
              "    li.append(span(\n",
              "        `(${file.type || 'n/a'}) - ${file.size} bytes, ` +\n",
              "        `last modified: ${\n",
              "            file.lastModifiedDate ? file.lastModifiedDate.toLocaleDateString() :\n",
              "                                    'n/a'} - `));\n",
              "    const percent = span('0% done');\n",
              "    li.appendChild(percent);\n",
              "\n",
              "    outputElement.appendChild(li);\n",
              "\n",
              "    const fileDataPromise = new Promise((resolve) => {\n",
              "      const reader = new FileReader();\n",
              "      reader.onload = (e) => {\n",
              "        resolve(e.target.result);\n",
              "      };\n",
              "      reader.readAsArrayBuffer(file);\n",
              "    });\n",
              "    // Wait for the data to be ready.\n",
              "    let fileData = yield {\n",
              "      promise: fileDataPromise,\n",
              "      response: {\n",
              "        action: 'continue',\n",
              "      }\n",
              "    };\n",
              "\n",
              "    // Use a chunked sending to avoid message size limits. See b/62115660.\n",
              "    let position = 0;\n",
              "    do {\n",
              "      const length = Math.min(fileData.byteLength - position, MAX_PAYLOAD_SIZE);\n",
              "      const chunk = new Uint8Array(fileData, position, length);\n",
              "      position += length;\n",
              "\n",
              "      const base64 = btoa(String.fromCharCode.apply(null, chunk));\n",
              "      yield {\n",
              "        response: {\n",
              "          action: 'append',\n",
              "          file: file.name,\n",
              "          data: base64,\n",
              "        },\n",
              "      };\n",
              "\n",
              "      let percentDone = fileData.byteLength === 0 ?\n",
              "          100 :\n",
              "          Math.round((position / fileData.byteLength) * 100);\n",
              "      percent.textContent = `${percentDone}% done`;\n",
              "\n",
              "    } while (position < fileData.byteLength);\n",
              "  }\n",
              "\n",
              "  // All done.\n",
              "  yield {\n",
              "    response: {\n",
              "      action: 'complete',\n",
              "    }\n",
              "  };\n",
              "}\n",
              "\n",
              "scope.google = scope.google || {};\n",
              "scope.google.colab = scope.google.colab || {};\n",
              "scope.google.colab._files = {\n",
              "  _uploadFiles,\n",
              "  _uploadFilesContinue,\n",
              "};\n",
              "})(self);\n",
              "</script> "
            ]
          },
          "metadata": {}
        },
        {
          "output_type": "stream",
          "name": "stdout",
          "text": [
            "Saving spice_locations.txt to spice_locations (1).txt\n"
          ]
        }
      ]
    },
    {
      "cell_type": "code",
      "source": [
        "import numpy as np\n",
        "import matplotlib.pyplot as plt\n",
        "\n",
        "def plot_spice_locations(data_path):\n",
        "\n",
        "    data = np.loadtxt(data_path, delimiter=',')\n",
        "\n",
        "    plt.figure(figsize=(8, 6))\n",
        "    plt.scatter(data[:, 0], data[:, 1], color='blue', s=50, label='Spice Points')\n",
        "\n",
        "    plt.title('Spice Locations')\n",
        "    plt.xlabel('Longitude')\n",
        "    plt.ylabel('Latitude')\n",
        "    plt.legend()\n",
        "\n",
        "    plt.show()\n",
        "\n",
        "data_path = 'spice_locations.txt'\n",
        "plot_spice_locations(data_path)\n"
      ],
      "metadata": {
        "colab": {
          "base_uri": "https://localhost:8080/",
          "height": 564
        },
        "id": "wyoqMMyNcO6a",
        "outputId": "33b541a8-75f7-4103-fae8-91337cccaf06"
      },
      "execution_count": 69,
      "outputs": [
        {
          "output_type": "display_data",
          "data": {
            "text/plain": [
              "<Figure size 800x600 with 1 Axes>"
            ],
            "image/png": "[encoded data removed]"
          },
          "metadata": {}
        }
      ]
    },
    {
      "cell_type": "markdown",
      "source": [
        "from the above graph , it feels better to make 2 clusters. i.e, K = 2"
      ],
      "metadata": {
        "id": "M5bOeSaxh5PW"
      }
    },
    {
      "cell_type": "markdown",
      "source": [
        "\n",
        "\n",
        "---\n",
        "\n"
      ],
      "metadata": {
        "id": "82qmIQolh_6m"
      }
    },
    {
      "cell_type": "markdown",
      "source": [
        "### TODO 1\n",
        "### Load data from data_path\n",
        "### Check the input file spice_locations.txt to understand the Data Format\n",
        "### Return : np array of size Nx2"
      ],
      "metadata": {
        "id": "CU3qlGv16JnX"
      }
    },
    {
      "cell_type": "code",
      "source": [
        "def load_data(data_path):\n",
        "    return np.loadtxt(data_path, delimiter=',')\n",
        "spice_points = load_data('spice_locations.txt')\n",
        "print(spice_points)\n"
      ],
      "metadata": {
        "colab": {
          "base_uri": "https://localhost:8080/"
        },
        "id": "A797dhNq5hKt",
        "outputId": "162aa6c4-855e-4489-a1d9-b5c575c4df2e"
      },
      "execution_count": 70,
      "outputs": [
        {
          "output_type": "stream",
          "name": "stdout",
          "text": [
            "[[-2.12729941e+00  1.75357153e+00]\n",
            " [-3.40030291e-01 -6.70757901e-03]\n",
            " [-3.21990680e+00 -2.22002740e+00]\n",
            " [-3.70958194e+00  1.33088073e+00]\n",
            " [-9.94424941e-01  5.40362889e-01]\n",
            " [-3.89707753e+00  1.84954926e+00]\n",
            " [ 1.62213204e-01 -1.93830445e+00]\n",
            " [-3.09087516e+00 -2.08297745e+00]\n",
            " [-2.47878879e+00 -3.76217842e-01]\n",
            " [-1.84027491e+00 -1.54385430e+00]\n",
            " [-9.40735526e-01 -2.30253070e+00]\n",
            " [-2.53927676e+00 -1.16819078e+00]\n",
            " [-1.71965008e+00  9.25879807e-01]\n",
            " [-3.00163109e+00 -4.28827808e-01]\n",
            " [-1.03792716e+00 -2.76774794e+00]\n",
            " [-9.62275740e-01 -2.14737938e+00]\n",
            " [-3.67474204e+00  1.74442769e+00]\n",
            " [ 8.28160165e-01  1.04198674e+00]\n",
            " [-2.47693115e+00 -2.51163943e+00]\n",
            " [-5.78834867e-01 -7.99237531e-01]\n",
            " [-3.38980883e+00 -5.24115449e-01]\n",
            " [-3.82805739e+00  1.54660201e+00]\n",
            " [-2.70610009e+00  3.12611422e-01]\n",
            " [-2.44144462e+00 -3.99659894e-01]\n",
            " [-1.26644860e+00 -2.07572772e+00]\n",
            " [ 8.47923139e-01  8.75664117e-01]\n",
            " [ 6.97494708e-01  1.47413675e+00]\n",
            " [-1.01050011e+00  1.60937118e+00]\n",
            " [-3.55753749e+00 -2.02008569e+00]\n",
            " [-3.77386356e+00 -1.37334835e+00]\n",
            " [ 3.94338645e+00  4.35674516e+00]\n",
            " [ 6.14368755e+00  4.78376663e+00]\n",
            " [ 3.40467255e+00  5.71348042e+00]\n",
            " [ 2.70462112e+00  7.01098490e+00]\n",
            " [ 2.37275322e+00  7.93443468e+00]\n",
            " [ 5.86122385e+00  3.99357841e+00]\n",
            " [ 2.02761059e+00  7.07730714e+00]\n",
            " [ 5.53428672e+00  6.64503584e+00]\n",
            " [ 5.85635173e+00  3.37022326e+00]\n",
            " [ 3.79232864e+00  3.57934530e+00]\n",
            " [ 6.31551713e+00  6.11649063e+00]\n",
            " [ 3.65449012e+00  3.31779175e+00]\n",
            " [ 3.55491161e+00  4.62591661e+00]\n",
            " [ 5.64803089e+00  6.18778736e+00]\n",
            " [ 6.43606371e+00  5.36107463e+00]\n",
            " [ 2.59797123e+00  6.56622394e+00]\n",
            " [ 5.80392524e+00  5.80638599e+00]\n",
            " [ 5.85483590e+00  5.46897798e+00]\n",
            " [ 4.61366415e+00  5.13770509e+00]\n",
            " [ 2.12709563e+00  3.53945713e+00]\n",
            " [ 2.15714593e+00  6.18205206e+00]\n",
            " [ 3.57177991e+00  5.54285346e+00]\n",
            " [ 6.53783237e+00  4.24646115e+00]\n",
            " [ 4.05191462e+00  6.77775569e+00]\n",
            " [ 3.14399083e+00  3.38489955e+00]\n",
            " [ 3.44875726e+00  3.80610644e+00]\n",
            " [ 6.64848826e+00  7.04060190e+00]\n",
            " [ 5.16701878e+00  7.35730295e+00]\n",
            " [ 6.01836038e+00  3.93285029e+00]\n",
            " [ 6.46279499e+00  5.69671121e+00]]\n"
          ]
        }
      ]
    },
    {
      "cell_type": "code",
      "source": [
        "len(spice_points)"
      ],
      "metadata": {
        "colab": {
          "base_uri": "https://localhost:8080/"
        },
        "id": "GENLTmEM8EKF",
        "outputId": "df04d2a8-0ed1-41ea-cc82-07c37361b395"
      },
      "execution_count": 71,
      "outputs": [
        {
          "output_type": "execute_result",
          "data": {
            "text/plain": [
              "60"
            ]
          },
          "metadata": {},
          "execution_count": 71
        }
      ]
    },
    {
      "cell_type": "markdown",
      "source": [
        "### TODO 2.1\n",
        "### If init_centers is None, initialize the centers by selecting K data points at random without replacement\n",
        "### Else, use the centers provided in init_centers\n",
        "### Return : np array of size Kx2"
      ],
      "metadata": {
        "id": "hMrz9rej8Xws"
      }
    },
    {
      "cell_type": "code",
      "source": [
        "def initialise_centers(data, K, init_centers=None):\n",
        "    if init_centers is None:\n",
        "        return data[np.random.choice(data.shape[0], size=K, replace=False)]\n",
        "    else:\n",
        "        return init_centers\n"
      ],
      "metadata": {
        "id": "2wVrKOT78Yep"
      },
      "execution_count": 72,
      "outputs": []
    },
    {
      "cell_type": "code",
      "source": [
        "K = 2\n",
        "init_centers = None\n",
        "centers = initialise_centers(spice_points, K, init_centers)\n",
        "print(centers)\n"
      ],
      "metadata": {
        "colab": {
          "base_uri": "https://localhost:8080/"
        },
        "id": "gLNbrwxe9Rz0",
        "outputId": "b5c007ac-edf0-4b2c-f4f6-bdb6191e4965"
      },
      "execution_count": 114,
      "outputs": [
        {
          "output_type": "stream",
          "name": "stdout",
          "text": [
            "[[6.64848826 7.0406019 ]\n",
            " [3.40467255 5.71348042]]\n"
          ]
        }
      ]
    },
    {
      "cell_type": "markdown",
      "source": [
        "### TODO 2.2\n",
        "### Initialize the labels to all ones to size (N,) where N is the number of data points\n",
        "### Return : np array of size N"
      ],
      "metadata": {
        "id": "yYhnYFQ16P6D"
      }
    },
    {
      "cell_type": "code",
      "source": [
        "import numpy as np\n",
        "\n",
        "def initialise_labels(data):\n",
        "    return np.ones(data.shape[0], dtype=int)\n",
        "\n",
        "labels = initialise_labels(spice_points)\n",
        "print(labels)"
      ],
      "metadata": {
        "colab": {
          "base_uri": "https://localhost:8080/"
        },
        "id": "3OrRwh7g5tl8",
        "outputId": "42b2fe2c-2860-4fd5-a84a-93b7af315f2e"
      },
      "execution_count": 115,
      "outputs": [
        {
          "output_type": "stream",
          "name": "stdout",
          "text": [
            "[1 1 1 1 1 1 1 1 1 1 1 1 1 1 1 1 1 1 1 1 1 1 1 1 1 1 1 1 1 1 1 1 1 1 1 1 1\n",
            " 1 1 1 1 1 1 1 1 1 1 1 1 1 1 1 1 1 1 1 1 1 1 1]\n"
          ]
        }
      ]
    },
    {
      "cell_type": "code",
      "source": [
        "len(labels)"
      ],
      "metadata": {
        "colab": {
          "base_uri": "https://localhost:8080/"
        },
        "id": "2_yhLAk97-v9",
        "outputId": "7f156e32-b953-42c6-80db-a2eeeaef20aa"
      },
      "execution_count": 116,
      "outputs": [
        {
          "output_type": "execute_result",
          "data": {
            "text/plain": [
              "60"
            ]
          },
          "metadata": {},
          "execution_count": 116
        }
      ]
    },
    {
      "cell_type": "markdown",
      "source": [
        "### TODO 3.1 : E step\n",
        "### For Each data point, find the distance to each center\n",
        "### Return : np array of size NxK"
      ],
      "metadata": {
        "id": "BwzPb1Wg-Lq5"
      }
    },
    {
      "cell_type": "code",
      "source": [
        "import numpy as np\n",
        "\n",
        "def calculate_distances(data, centers):\n",
        "    data_x = data[:, 0][:, None]\n",
        "    data_y = data[:, 1][:, None]\n",
        "\n",
        "    centers_x = centers[:, 0][None, :]\n",
        "    centers_y = centers[:, 1][None, :]\n",
        "\n",
        "    diff_x_squared = (data_x - centers_x) ** 2\n",
        "    diff_y_squared = (data_y - centers_y) ** 2\n",
        "    distances = np.sqrt(diff_x_squared + diff_y_squared)\n",
        "\n",
        "    return distances\n"
      ],
      "metadata": {
        "id": "VsRrYhql8Lyd"
      },
      "execution_count": 117,
      "outputs": []
    },
    {
      "cell_type": "code",
      "source": [
        "data = spice_points\n",
        "centers = centers\n",
        "distances = calculate_distances(data, centers)\n",
        "print(distances)\n"
      ],
      "metadata": {
        "colab": {
          "base_uri": "https://localhost:8080/"
        },
        "id": "RtrGLSNU_uBX",
        "outputId": "0dabd3a7-19f6-4789-bc5b-d593e12919e2"
      },
      "execution_count": 118,
      "outputs": [
        {
          "output_type": "stream",
          "name": "stdout",
          "text": [
            "[[10.2453472   6.80320454]\n",
            " [ 9.92491624  6.83691086]\n",
            " [13.53308819 10.33564694]\n",
            " [11.82753288  8.35582413]\n",
            " [10.03330601  6.79067034]\n",
            " [11.75397743  8.26108456]\n",
            " [11.07666571  8.31043646]\n",
            " [13.34522012 10.14775322]\n",
            " [11.76079935  8.46755822]\n",
            " [12.07277882  8.95423816]\n",
            " [12.03704467  9.11805931]\n",
            " [12.32068599  9.09329049]\n",
            " [10.36414809  7.01283124]\n",
            " [12.20316285  8.87517192]\n",
            " [12.46132852  9.57433687]\n",
            " [11.9307472   8.99240536]\n",
            " [11.60252322  8.11612533]\n",
            " [ 8.35820573  5.33491042]\n",
            " [13.21054858 10.11166943]\n",
            " [10.66289275  7.63438448]\n",
            " [12.56950106  9.22347978]\n",
            " [11.82971021  8.34717066]\n",
            " [11.52276786  8.15542324]\n",
            " [11.74667508  8.45857969]\n",
            " [12.07284935  9.08246311]\n",
            " [ 8.46481031  5.47187665]\n",
            " [ 8.14861083  5.02999469]\n",
            " [ 9.38926887  6.02805626]\n",
            " [13.64767457 10.40578749]\n",
            " [13.39477421 10.08734467]\n",
            " [ 3.81059875  1.45977506]\n",
            " [ 2.31260225  2.89250253]\n",
            " [ 3.50479554  0.        ]\n",
            " [ 3.94397834  1.47430997]\n",
            " [ 4.36816291  2.44897843]\n",
            " [ 3.14708395  2.99878429]\n",
            " [ 4.62102346  1.93812357]\n",
            " [ 1.18233565  2.32444661]\n",
            " [ 3.75488477  3.39139867]\n",
            " [ 4.48753217  2.16905739]\n",
            " [ 0.9822685   2.9386108 ]\n",
            " [ 4.77737797  2.40867868]\n",
            " [ 3.92440079  1.09789198]\n",
            " [ 1.3146131   2.29295088]\n",
            " [ 1.69290757  3.05180639]\n",
            " [ 4.07820091  1.17385626]\n",
            " [ 1.49551851  2.4010508 ]\n",
            " [ 1.76064926  2.46233261]\n",
            " [ 2.78595144  1.33909593]\n",
            " [ 5.71847934  2.52162249]\n",
            " [ 4.57266485  1.33262225]\n",
            " [ 3.42189782  0.23882719]\n",
            " [ 2.79633104  3.45960056]\n",
            " [ 2.60984345  1.24563404]\n",
            " [ 5.06415461  2.34312693]\n",
            " [ 4.54975157  1.90788337]\n",
            " [ 0.          3.50479554]\n",
            " [ 1.5149427   2.40998273]\n",
            " [ 3.17099057  3.16259509]\n",
            " [ 1.3566592   3.05816842]]\n"
          ]
        }
      ]
    },
    {
      "cell_type": "code",
      "source": [
        "len(distances)"
      ],
      "metadata": {
        "colab": {
          "base_uri": "https://localhost:8080/"
        },
        "id": "E1qIaqyU_8WC",
        "outputId": "e0611b5c-d424-4387-e70e-d8b167d75a83"
      },
      "execution_count": 119,
      "outputs": [
        {
          "output_type": "execute_result",
          "data": {
            "text/plain": [
              "60"
            ]
          },
          "metadata": {},
          "execution_count": 119
        }
      ]
    },
    {
      "cell_type": "markdown",
      "source": [
        "### TODO 3.2 : E step\n",
        "### For Each data point, assign the label of the nearest center\n",
        "### Return : np array of size N"
      ],
      "metadata": {
        "id": "vELstG-uAK0p"
      }
    },
    {
      "cell_type": "code",
      "source": [
        "import numpy as np\n",
        "\n",
        "def update_labels(distances):\n",
        "    labels = np.argmin(distances, axis=1)\n",
        "    return labels\n"
      ],
      "metadata": {
        "id": "nn_R9LeqAJwN"
      },
      "execution_count": 120,
      "outputs": []
    },
    {
      "cell_type": "code",
      "source": [
        "updated_labels = update_labels(distances)\n",
        "print(updated_labels)"
      ],
      "metadata": {
        "colab": {
          "base_uri": "https://localhost:8080/"
        },
        "id": "i8rR3FIzQevj",
        "outputId": "992f3e66-c106-47e5-8502-e618edb14650"
      },
      "execution_count": 121,
      "outputs": [
        {
          "output_type": "stream",
          "name": "stdout",
          "text": [
            "[1 1 1 1 1 1 1 1 1 1 1 1 1 1 1 1 1 1 1 1 1 1 1 1 1 1 1 1 1 1 1 0 1 1 1 1 1\n",
            " 0 1 1 0 1 1 0 0 1 0 0 1 1 1 1 0 1 1 1 0 0 1 0]\n"
          ]
        }
      ]
    },
    {
      "cell_type": "code",
      "source": [
        "len(updated_labels)"
      ],
      "metadata": {
        "colab": {
          "base_uri": "https://localhost:8080/"
        },
        "id": "3edxY1n9Q6m6",
        "outputId": "7fc64977-6f62-4a40-bb83-752add13e8cc"
      },
      "execution_count": 122,
      "outputs": [
        {
          "output_type": "execute_result",
          "data": {
            "text/plain": [
              "60"
            ]
          },
          "metadata": {},
          "execution_count": 122
        }
      ]
    },
    {
      "cell_type": "markdown",
      "source": [
        "### TODO 4 : M step\n",
        "### Update the centers to the mean of the data points assigned to it\n",
        "### Return : np array of size Kx2"
      ],
      "metadata": {
        "id": "B3rREvDTa2Pv"
      }
    },
    {
      "cell_type": "code",
      "source": [
        "import numpy as np\n",
        "\n",
        "def update_centers(data, labels, K):\n",
        "    sum_centers = np.zeros((K, data.shape[1]))\n",
        "    count_centers = np.zeros(K)\n",
        "\n",
        "    np.add.at(sum_centers, labels, data)\n",
        "    np.add.at(count_centers, labels, 1)\n",
        "    new_centers = sum_centers / count_centers[:, np.newaxis]\n",
        "\n",
        "    return new_centers\n"
      ],
      "metadata": {
        "id": "26hz-thOc5SU"
      },
      "execution_count": 123,
      "outputs": []
    },
    {
      "cell_type": "code",
      "source": [
        "updated_centres = update_centers(spice_points, updated_labels, K)\n",
        "print(updated_centres)"
      ],
      "metadata": {
        "colab": {
          "base_uri": "https://localhost:8080/"
        },
        "id": "6KnEi5U8c5-j",
        "outputId": "61086493-87a6-4d09-dbf9-3f4034034dff"
      },
      "execution_count": 124,
      "outputs": [
        {
          "output_type": "stream",
          "name": "stdout",
          "text": [
            "[[6.0502256  5.88278148]\n",
            " [0.22111829 1.71771787]]\n"
          ]
        }
      ]
    },
    {
      "cell_type": "markdown",
      "source": [
        "rechecking using for/while loop\n"
      ],
      "metadata": {
        "id": "MYZeVJkneOmS"
      }
    },
    {
      "cell_type": "code",
      "source": [
        "def update_center(data, labels, K):\n",
        "\n",
        "    new_centers = np.zeros((K, 2))\n",
        "    for k in range(K):\n",
        "        cluster_points = data[labels == k]\n",
        "        if len(cluster_points) > 0 :\n",
        "          new_centers[k] = np.mean(cluster_points, axis=0)\n",
        "    return  new_centers"
      ],
      "metadata": {
        "id": "xavEdwiTeAUF"
      },
      "execution_count": 125,
      "outputs": []
    },
    {
      "cell_type": "code",
      "source": [
        "updated_centres_2 = update_center(spice_points, updated_labels, K)\n",
        "print(updated_centres_2)"
      ],
      "metadata": {
        "colab": {
          "base_uri": "https://localhost:8080/"
        },
        "outputId": "18189327-ff0e-4b53-f67b-8de84db18c2c",
        "id": "SZXfvQ0yeHVQ"
      },
      "execution_count": 126,
      "outputs": [
        {
          "output_type": "stream",
          "name": "stdout",
          "text": [
            "[[6.0502256  5.88278148]\n",
            " [0.22111829 1.71771787]]\n"
          ]
        }
      ]
    },
    {
      "cell_type": "markdown",
      "source": [
        "\n",
        "\n",
        "---\n",
        "\n",
        "### TODO 6 : Check convergence\n",
        "### Check if the labels have changed from the previous iteration\n",
        "### Return : True / False"
      ],
      "metadata": {
        "id": "oWiO2n-8eR_9"
      }
    },
    {
      "cell_type": "code",
      "source": [
        "def check_termination(labels1, labels2):\n",
        "    return np.array_equal(labels1, labels2)\n"
      ],
      "metadata": {
        "id": "OvCAwgVHeLTe"
      },
      "execution_count": 127,
      "outputs": []
    },
    {
      "cell_type": "code",
      "source": [
        "converged = check_termination(updated_labels, labels)\n",
        "print(converged)"
      ],
      "metadata": {
        "colab": {
          "base_uri": "https://localhost:8080/"
        },
        "id": "-HysqavKe7D1",
        "outputId": "d3a75ee9-3291-4f5b-9f7c-882d6711f302"
      },
      "execution_count": 128,
      "outputs": [
        {
          "output_type": "stream",
          "name": "stdout",
          "text": [
            "False\n"
          ]
        }
      ]
    },
    {
      "cell_type": "markdown",
      "source": [
        "\n",
        "\n",
        "---\n",
        "\n"
      ],
      "metadata": {
        "id": "3IRV825ue_Ro"
      }
    },
    {
      "cell_type": "code",
      "source": [
        "def kmeans(data_path:str, K:int, init_centers):\n",
        "    '''\n",
        "    Input :\n",
        "        data (type str): path to the file containing the data\n",
        "        K (type int): number of clusters\n",
        "        init_centers (type numpy.ndarray): initial centers. shape = (K, 2) or None\n",
        "    Output :\n",
        "        centers (type numpy.ndarray): final centers. shape = (K, 2)\n",
        "        labels (type numpy.ndarray): label of each data point. shape = (N,)\n",
        "        time (type float): time taken by the algorithm to converge in seconds\n",
        "    N is the number of data points each of shape (2,)\n",
        "    '''\n",
        "    data = load_data(data_path)\n",
        "    centers = initialise_centers(data, K, init_centers)\n",
        "    labels = initialise_labels(data)\n",
        "\n",
        "    start_time = time.time() # Time stamp\n",
        "\n",
        "    while True:\n",
        "        distances = calculate_distances(data, centers)\n",
        "        labels_new = update_labels(distances)\n",
        "        centers = update_centers(data, labels_new, K)\n",
        "        if check_termination(labels, labels_new): break\n",
        "        else: labels = labels_new\n",
        "\n",
        "    end_time = time.time() # Time stamp after the algorithm ends\n",
        "    return centers, labels, end_time - start_time"
      ],
      "metadata": {
        "id": "6sJV5vpne-dX"
      },
      "execution_count": 129,
      "outputs": []
    },
    {
      "cell_type": "code",
      "source": [
        "final_centres, final_labels, time_taken = kmeans('spice_locations.txt', 2, None)\n",
        "print(final_centres)\n",
        "print(final_labels)\n",
        "print(time_taken)"
      ],
      "metadata": {
        "colab": {
          "base_uri": "https://localhost:8080/"
        },
        "id": "eDQAYQsLfSji",
        "outputId": "db6fddac-fe75-489b-c4e8-154168e5b92c"
      },
      "execution_count": 130,
      "outputs": [
        {
          "output_type": "stream",
          "name": "stdout",
          "text": [
            "[[-1.93560779 -0.38938452]\n",
            " [ 4.51518371  5.35201025]]\n",
            "[0 0 0 0 0 0 0 0 0 0 0 0 0 0 0 0 0 0 0 0 0 0 0 0 0 0 0 0 0 0 1 1 1 1 1 1 1\n",
            " 1 1 1 1 1 1 1 1 1 1 1 1 1 1 1 1 1 1 1 1 1 1 1]\n",
            "0.00042891502380371094\n"
          ]
        }
      ]
    },
    {
      "cell_type": "markdown",
      "source": [
        "### Todo 7\n",
        "\n",
        "visualise the graph"
      ],
      "metadata": {
        "id": "k1PrfXYNbE76"
      }
    },
    {
      "cell_type": "code",
      "source": [
        "def visualise(data_path, labels, centers):\n",
        "    data = load_data(data_path)\n",
        "\n",
        "    plt.scatter(data[:, 0], data[:, 1], c=labels, s=50, cmap='viridis')\n",
        "    plt.scatter(centers[:, 0], centers[:, 1], c='black', s=200, alpha=0.5)\n",
        "\n",
        "\n",
        "    plt.title('K-means clustering')\n",
        "    plt.xlabel('Longitude')\n",
        "    plt.ylabel('Latitude')\n",
        "\n",
        "    plt.savefig('kmeans.png')\n",
        "\n",
        "    return plt\n"
      ],
      "metadata": {
        "id": "zKR5UXF9bAsk"
      },
      "execution_count": 131,
      "outputs": []
    },
    {
      "cell_type": "code",
      "source": [
        "visualise('spice_locations.txt', final_labels, final_centres)"
      ],
      "metadata": {
        "colab": {
          "base_uri": "https://localhost:8080/",
          "height": 490
        },
        "id": "GvezoQlnbprh",
        "outputId": "1b24d8f2-db00-4b84-fb04-50dbde1a5ae3"
      },
      "execution_count": 132,
      "outputs": [
        {
          "output_type": "execute_result",
          "data": {
            "text/plain": [
              "<module 'matplotlib.pyplot' from '/usr/local/lib/python3.10/dist-packages/matplotlib/pyplot.py'>"
            ]
          },
          "metadata": {},
          "execution_count": 132
        },
        {
          "output_type": "display_data",
          "data": {
            "text/plain": [
              "<Figure size 640x480 with 1 Axes>"
            ],
            "image/png": "[encoded data removed]"
          },
          "metadata": {}
        }
      ]
    },
    {
      "cell_type": "code",
      "source": [
        "data_path = 'spice_locations.txt'\n",
        "K, init_centers = 2, None\n",
        "centers, labels, time_taken = kmeans(data_path, K, init_centers)\n",
        "print('Time taken for the algorithm to converge:', time_taken)\n",
        "visualise(data_path, labels, centers)"
      ],
      "metadata": {
        "colab": {
          "base_uri": "https://localhost:8080/",
          "height": 508
        },
        "id": "nKJpg9l4bsy_",
        "outputId": "a3001524-a728-4705-d75b-c0fdf9ed06ce"
      },
      "execution_count": 133,
      "outputs": [
        {
          "output_type": "stream",
          "name": "stdout",
          "text": [
            "Time taken for the algorithm to converge: 0.00037384033203125\n"
          ]
        },
        {
          "output_type": "execute_result",
          "data": {
            "text/plain": [
              "<module 'matplotlib.pyplot' from '/usr/local/lib/python3.10/dist-packages/matplotlib/pyplot.py'>"
            ]
          },
          "metadata": {},
          "execution_count": 133
        },
        {
          "output_type": "display_data",
          "data": {
            "text/plain": [
              "<Figure size 640x480 with 1 Axes>"
            ],
            "image/png": "[encoded data removed]"
          },
          "metadata": {}
        }
      ]
    }
  ]
}